{
 "cells": [
  {
   "cell_type": "code",
   "execution_count": 1,
   "metadata": {},
   "outputs": [
    {
     "name": "stdout",
     "output_type": "stream",
     "text": [
      "    Nome máquina  Vibração (Hz)  Temperatura  Tempo de trabalho\n",
      "0      Máquina 4            469          149                 12\n",
      "1      Máquina 5            407           44                 23\n",
      "2      Máquina 4             64          145                 13\n",
      "3      Máquina 1            424          155                  4\n",
      "4      Máquina 2            215          138                 14\n",
      "..           ...            ...          ...                ...\n",
      "495    Máquina 2            439          118                 22\n",
      "496    Máquina 1            486          171                  3\n",
      "497    Máquina 7            417           85                 23\n",
      "498    Máquina 4            295          142                 23\n",
      "499    Máquina 3            447           66                 12\n",
      "\n",
      "[500 rows x 4 columns]\n"
     ]
    }
   ],
   "source": [
    "import pandas as pd # importa biblioteca pandas\n",
    "import random\n",
    "\n",
    "# Criar uma lista com os dados de uma máquina industrial\n",
    "maquinas = [\"Máquina 1\", \"Máquina 2\", \"Máquina 3\", \"Máquina 4\", \"Máquina 5\", \"Máquina 6\",\"Máquina 7\"]\n",
    "\n",
    "# Inicializar listas para cada coluna de dados\n",
    "corrente_eletrica = []\n",
    "vibracao = []\n",
    "temperatura = []\n",
    "tempo_trabalho = []\n",
    "nome_maq =[]\n",
    "\n",
    "# Gerar dados fictícios para cada produto\n",
    "for _ in range(500):\n",
    "    nome = random.choice(maquinas)\n",
    "    vib = random.randint(1, 500)\n",
    "    temp = random.randint(30, 200)\n",
    "    tt = random.randint(1,24)\n",
    "    \n",
    "    nome_maq.append(nome)\n",
    "    vibracao.append(vib)\n",
    "    temperatura.append(temp)\n",
    "    tempo_trabalho.append(tt)\n",
    "\n",
    "# Criar um DataFrame a partir dos dados\n",
    "data = {\n",
    "    'Nome máquina': nome_maq,\n",
    "    'Vibração (Hz)': vibracao,\n",
    "    'Temperatura': temperatura,\n",
    "    'Tempo de trabalho': tempo_trabalho\n",
    "}\n",
    "\n",
    "df = pd.DataFrame(data)\n",
    "\n",
    "print(df)\n",
    "df.to_csv('dadosmaquinas.csv', index=False)"
   ]
  },
  {
   "cell_type": "code",
   "execution_count": 11,
   "metadata": {},
   "outputs": [
    {
     "name": "stdout",
     "output_type": "stream",
     "text": [
      "      clientes  Valor_compra  qtde_produtos  forma_pag\n",
      "0    cliente 2           378             10          1\n",
      "1    cliente 5           475             18          1\n",
      "2    cliente 1           285             10          1\n",
      "3    cliente 1           181              4          0\n",
      "4    cliente 7           177             20          1\n",
      "..         ...           ...            ...        ...\n",
      "195  cliente 5           391              2          0\n",
      "196  cliente 7           115             16          0\n",
      "197  cliente 2           156             12          0\n",
      "198  cliente 6            46             19          0\n",
      "199  cliente 7           329             11          0\n",
      "\n",
      "[200 rows x 4 columns]\n"
     ]
    }
   ],
   "source": [
    "import pandas as pd # importa biblioteca pandas\n",
    "import random\n",
    "\n",
    "# Criar uma lista com os dados de uma máquina industrial\n",
    "clientes = [\"cliente 1\", \"cliente 2\", \"cliente 3\", \"cliente 5\", \"cliente 6\", \"cliente 7\",\"cliente 8\"]\n",
    "\n",
    "# Inicializar listas para cada coluna de dados\n",
    "n_clientes=[]\n",
    "valor_compra = []\n",
    "forma_pag = []\n",
    "qtde_produtos = []\n",
    "\n",
    "\n",
    "# Gerar dados fictícios para cada produto\n",
    "for _ in range(200):\n",
    "    client=random.choice(clientes)\n",
    "    valor = random.randint(10,500)\n",
    "    pag = random.randint(0, 1)\n",
    "    produtos = random.randint(0, 20)\n",
    "    \n",
    "    n_clientes.append(client)\n",
    "    valor_compra.append(valor)\n",
    "    forma_pag.append(pag)\n",
    "    qtde_produtos.append(produtos)\n",
    "   \n",
    "\n",
    "# Criar um DataFrame a partir dos dados\n",
    "data = {\n",
    "    'clientes': n_clientes,\n",
    "    'Valor_compra': valor_compra,\n",
    "    'qtde_produtos': qtde_produtos,\n",
    "    'forma_pag':forma_pag\n",
    "    \n",
    "}\n",
    "df = pd.DataFrame(data)\n",
    "print(df)\n",
    "df.to_csv('dadosclientes.csv', index=False)"
   ]
  }
 ],
 "metadata": {
  "kernelspec": {
   "display_name": "Python 3",
   "language": "python",
   "name": "python3"
  },
  "language_info": {
   "codemirror_mode": {
    "name": "ipython",
    "version": 3
   },
   "file_extension": ".py",
   "mimetype": "text/x-python",
   "name": "python",
   "nbconvert_exporter": "python",
   "pygments_lexer": "ipython3",
   "version": "3.11.4"
  }
 },
 "nbformat": 4,
 "nbformat_minor": 2
}
