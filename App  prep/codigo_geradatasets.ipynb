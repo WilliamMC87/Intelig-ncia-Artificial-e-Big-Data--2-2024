{
 "cells": [
  {
   "cell_type": "code",
   "execution_count": 1,
   "metadata": {},
   "outputs": [
    {
     "name": "stdout",
     "output_type": "stream",
     "text": [
      "    Nome máquina  Vibração (Hz)  Temperatura  Tempo de trabalho\n",
      "0      Máquina 4            469          149                 12\n",
      "1      Máquina 5            407           44                 23\n",
      "2      Máquina 4             64          145                 13\n",
      "3      Máquina 1            424          155                  4\n",
      "4      Máquina 2            215          138                 14\n",
      "..           ...            ...          ...                ...\n",
      "495    Máquina 2            439          118                 22\n",
      "496    Máquina 1            486          171                  3\n",
      "497    Máquina 7            417           85                 23\n",
      "498    Máquina 4            295          142                 23\n",
      "499    Máquina 3            447           66                 12\n",
      "\n",
      "[500 rows x 4 columns]\n"
     ]
    }
   ],
   "source": [
    "import pandas as pd # importa biblioteca pandas\n",
    "import random\n",
    "\n",
    "# Criar uma lista com os dados de uma máquina industrial\n",
    "maquinas = [\"Máquina 1\", \"Máquina 2\", \"Máquina 3\", \"Máquina 4\", \"Máquina 5\", \"Máquina 6\",\"Máquina 7\"]\n",
    "\n",
    "# Inicializar listas para cada coluna de dados\n",
    "corrente_eletrica = []\n",
    "vibracao = []\n",
    "temperatura = []\n",
    "tempo_trabalho = []\n",
    "nome_maq =[]\n",
    "\n",
    "# Gerar dados fictícios para cada produto\n",
    "for _ in range(500):\n",
    "    nome = random.choice(maquinas)\n",
    "    vib = random.randint(1, 500)\n",
    "    temp = random.randint(30, 200)\n",
    "    tt = random.randint(1,24)\n",
    "    \n",
    "    nome_maq.append(nome)\n",
    "    vibracao.append(vib)\n",
    "    temperatura.append(temp)\n",
    "    tempo_trabalho.append(tt)\n",
    "\n",
    "# Criar um DataFrame a partir dos dados\n",
    "data = {\n",
    "    'Nome máquina': nome_maq,\n",
    "    'Vibração (Hz)': vibracao,\n",
    "    'Temperatura': temperatura,\n",
    "    'Tempo de trabalho': tempo_trabalho\n",
    "}\n",
    "\n",
    "df = pd.DataFrame(data)\n",
    "\n",
    "print(df)\n",
    "df.to_csv('dadosmaquinas.csv', index=False)"
   ]
  }
 ],
 "metadata": {
  "kernelspec": {
   "display_name": "Python 3",
   "language": "python",
   "name": "python3"
  },
  "language_info": {
   "codemirror_mode": {
    "name": "ipython",
    "version": 3
   },
   "file_extension": ".py",
   "mimetype": "text/x-python",
   "name": "python",
   "nbconvert_exporter": "python",
   "pygments_lexer": "ipython3",
   "version": "3.11.4"
  }
 },
 "nbformat": 4,
 "nbformat_minor": 2
}
