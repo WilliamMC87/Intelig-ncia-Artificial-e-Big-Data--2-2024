{
 "cells": [
  {
   "cell_type": "code",
   "execution_count": 29,
   "metadata": {},
   "outputs": [],
   "source": [
    "import pandas as pd # importa a biblioteca pandas\n",
    "import matplotlib.pyplot as plt # importa a biblioteca matplotlib\n",
    "import numpy as np # importa a biblioteca numpy "
   ]
  },
  {
   "cell_type": "code",
   "execution_count": 30,
   "metadata": {},
   "outputs": [],
   "source": [
    "# Gerando numeros com a numpy\n",
    "dados_x = np.linspace(0,10,10) #gera valores com a biblioteca numpy\n",
    "dados_y = dados_x * dados_x #gera valores multiplicando um dado pelo outro"
   ]
  },
  {
   "cell_type": "code",
   "execution_count": 32,
   "metadata": {},
   "outputs": [
    {
     "ename": "TypeError",
     "evalue": "'tuple' object is not callable",
     "output_type": "error",
     "traceback": [
      "\u001b[1;31m---------------------------------------------------------------------------\u001b[0m",
      "\u001b[1;31mTypeError\u001b[0m                                 Traceback (most recent call last)",
      "Cell \u001b[1;32mIn[32], line 1\u001b[0m\n\u001b[1;32m----> 1\u001b[0m plt\u001b[39m.\u001b[39;49mfigure(figsize \u001b[39m=\u001b[39;49m(\u001b[39m10\u001b[39;49m,\u001b[39m5\u001b[39;49m),facecolor\u001b[39m=\u001b[39;49m\u001b[39m'\u001b[39;49m\u001b[39mgray\u001b[39;49m\u001b[39m'\u001b[39;49m)\n\u001b[0;32m      2\u001b[0m Ax \u001b[39m=\u001b[39m plt\u001b[39m.\u001b[39maxes() \u001b[39m# cria os eixos do grafico\u001b[39;00m\n\u001b[0;32m      3\u001b[0m Ax\u001b[39m.\u001b[39mset_facecolor(\u001b[39m'\u001b[39m\u001b[39mwhite\u001b[39m\u001b[39m'\u001b[39m) \u001b[39m# cria o fundo do grafico\u001b[39;00m\n",
      "\u001b[1;31mTypeError\u001b[0m: 'tuple' object is not callable"
     ]
    }
   ],
   "source": [
    "plt.figure(figsize =(10,5),facecolor='gray')\n",
    "Ax = plt.axes() # cria os eixos do grafico\n",
    "Ax.set_facecolor('white') # cria o fundo do grafico\n",
    "plt.plot(dados_x,dados_y,\n",
    "         color='red',linewidth=2,\n",
    "        marker= 'o',linestyle = 'dashed',markeredgecolor='black')\n",
    "plt.xlabel(\"Eixo x\",fontsize=12) # adiciona titulo do eixo x\n",
    "plt.ylabel(\"Eixo y\",fontsize=12) # adiciona titulo do eixo y\n",
    "plt.title(\"Exemplo Matplotlib\",fontsize=12) # adiciona titulo do grafico"
   ]
  },
  {
   "cell_type": "code",
   "execution_count": null,
   "metadata": {},
   "outputs": [
    {
     "ename": "TypeError",
     "evalue": "'tuple' object is not callable",
     "output_type": "error",
     "traceback": [
      "\u001b[1;31m---------------------------------------------------------------------------\u001b[0m",
      "\u001b[1;31mTypeError\u001b[0m                                 Traceback (most recent call last)",
      "Cell \u001b[1;32mIn[13], line 5\u001b[0m\n\u001b[0;32m      3\u001b[0m linhas\u001b[39m=\u001b[39m\u001b[39m2\u001b[39m \u001b[39m#define o numero de linhas\u001b[39;00m\n\u001b[0;32m      4\u001b[0m colunas\u001b[39m=\u001b[39m\u001b[39m2\u001b[39m \u001b[39m# define o numero de colunas\u001b[39;00m\n\u001b[1;32m----> 5\u001b[0m plt\u001b[39m.\u001b[39;49msubplot(linhas,colunas,\u001b[39m1\u001b[39;49m) \u001b[39m# define o numero de linhas e colunas para plotar os graficos\u001b[39;00m\n\u001b[0;32m      6\u001b[0m plt\u001b[39m.\u001b[39mplot(dados_x,\u001b[39m'\u001b[39m\u001b[39mr--\u001b[39m\u001b[39m'\u001b[39m)\n\u001b[0;32m      7\u001b[0m plt\u001b[39m.\u001b[39mtitle(\u001b[39m\"\u001b[39m\u001b[39mGrafico 1\u001b[39m\u001b[39m\"\u001b[39m)\n",
      "File \u001b[1;32mc:\\Users\\sn1076220\\AppData\\Local\\Programs\\Python\\Python311\\Lib\\site-packages\\matplotlib\\pyplot.py:1320\u001b[0m, in \u001b[0;36msubplot\u001b[1;34m(*args, **kwargs)\u001b[0m\n\u001b[0;32m   1316\u001b[0m \u001b[39mif\u001b[39;00m \u001b[39m'\u001b[39m\u001b[39mnrows\u001b[39m\u001b[39m'\u001b[39m \u001b[39min\u001b[39;00m kwargs \u001b[39mor\u001b[39;00m \u001b[39m'\u001b[39m\u001b[39mncols\u001b[39m\u001b[39m'\u001b[39m \u001b[39min\u001b[39;00m kwargs:\n\u001b[0;32m   1317\u001b[0m     \u001b[39mraise\u001b[39;00m \u001b[39mTypeError\u001b[39;00m(\u001b[39m\"\u001b[39m\u001b[39msubplot() got an unexpected keyword argument \u001b[39m\u001b[39m'\u001b[39m\u001b[39mncols\u001b[39m\u001b[39m'\u001b[39m\u001b[39m \u001b[39m\u001b[39m\"\u001b[39m\n\u001b[0;32m   1318\u001b[0m                     \u001b[39m\"\u001b[39m\u001b[39mand/or \u001b[39m\u001b[39m'\u001b[39m\u001b[39mnrows\u001b[39m\u001b[39m'\u001b[39m\u001b[39m.  Did you intend to call subplots()?\u001b[39m\u001b[39m\"\u001b[39m)\n\u001b[1;32m-> 1320\u001b[0m fig \u001b[39m=\u001b[39m gcf()\n\u001b[0;32m   1322\u001b[0m \u001b[39m# First, search for an existing subplot with a matching spec.\u001b[39;00m\n\u001b[0;32m   1323\u001b[0m key \u001b[39m=\u001b[39m SubplotSpec\u001b[39m.\u001b[39m_from_subplot_args(fig, args)\n",
      "File \u001b[1;32mc:\\Users\\sn1076220\\AppData\\Local\\Programs\\Python\\Python311\\Lib\\site-packages\\matplotlib\\pyplot.py:906\u001b[0m, in \u001b[0;36mgcf\u001b[1;34m()\u001b[0m\n\u001b[0;32m    904\u001b[0m     \u001b[39mreturn\u001b[39;00m manager\u001b[39m.\u001b[39mcanvas\u001b[39m.\u001b[39mfigure\n\u001b[0;32m    905\u001b[0m \u001b[39melse\u001b[39;00m:\n\u001b[1;32m--> 906\u001b[0m     \u001b[39mreturn\u001b[39;00m figure()\n",
      "\u001b[1;31mTypeError\u001b[0m: 'tuple' object is not callable"
     ]
    }
   ],
   "source": [
    "plt.rcParams.update({'font.size':15}) # define o tamanho da fonte\n",
    "plt.figure(figsize=(12,12)) # define o tamanho da figura\n",
    "linhas=2 #define o numero de linhas\n",
    "colunas=2 # define o numero de colunas\n",
    "plt.subplot(linhas,colunas,1) # define o numero de linhas e colunas para plotar os graficos\n",
    "plt.plot(dados_x,'r--')\n",
    "plt.title(\"Grafico 1\")\n",
    "\n"
   ]
  }
 ],
 "metadata": {
  "kernelspec": {
   "display_name": "Python 3",
   "language": "python",
   "name": "python3"
  },
  "language_info": {
   "codemirror_mode": {
    "name": "ipython",
    "version": 3
   },
   "file_extension": ".py",
   "mimetype": "text/x-python",
   "name": "python",
   "nbconvert_exporter": "python",
   "pygments_lexer": "ipython3",
   "version": "3.11.4"
  },
  "orig_nbformat": 4
 },
 "nbformat": 4,
 "nbformat_minor": 2
}
