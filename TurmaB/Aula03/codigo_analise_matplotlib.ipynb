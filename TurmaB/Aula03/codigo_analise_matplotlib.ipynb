{
 "cells": [
  {
   "cell_type": "code",
   "execution_count": 1,
   "metadata": {},
   "outputs": [],
   "source": [
    "import pandas as pd # importa a biblioteca pandas\n",
    "import matplotlib.pyplot as plt # importa a biblioteca matplotlib,"
   ]
  },
  {
   "cell_type": "code",
   "execution_count": 2,
   "metadata": {},
   "outputs": [],
   "source": [
    "# importando a base de dados\n",
    "df = pd.read_csv('base de dados/monitoramento_tempo.csv') # realiza a leitura de um arquivo csv"
   ]
  },
  {
   "cell_type": "code",
   "execution_count": 3,
   "metadata": {},
   "outputs": [
    {
     "data": {
      "text/html": [
       "<div>\n",
       "<style scoped>\n",
       "    .dataframe tbody tr th:only-of-type {\n",
       "        vertical-align: middle;\n",
       "    }\n",
       "\n",
       "    .dataframe tbody tr th {\n",
       "        vertical-align: top;\n",
       "    }\n",
       "\n",
       "    .dataframe thead th {\n",
       "        text-align: right;\n",
       "    }\n",
       "</style>\n",
       "<table border=\"1\" class=\"dataframe\">\n",
       "  <thead>\n",
       "    <tr style=\"text-align: right;\">\n",
       "      <th></th>\n",
       "      <th>temperatura</th>\n",
       "      <th>pressão</th>\n",
       "      <th>humidade</th>\n",
       "      <th>direção do vento</th>\n",
       "      <th>velocidade do vento</th>\n",
       "      <th>dia_da_semana</th>\n",
       "      <th>data</th>\n",
       "    </tr>\n",
       "  </thead>\n",
       "  <tbody>\n",
       "    <tr>\n",
       "      <th>0</th>\n",
       "      <td>282.080000</td>\n",
       "      <td>1024.0</td>\n",
       "      <td>81.0</td>\n",
       "      <td>0.0</td>\n",
       "      <td>0.0</td>\n",
       "      <td>Domingo</td>\n",
       "      <td>2012-10-01 12:00:00</td>\n",
       "    </tr>\n",
       "    <tr>\n",
       "      <th>1</th>\n",
       "      <td>282.080000</td>\n",
       "      <td>1024.0</td>\n",
       "      <td>81.0</td>\n",
       "      <td>0.0</td>\n",
       "      <td>0.0</td>\n",
       "      <td>Domingo</td>\n",
       "      <td>2012-10-01 13:00:00</td>\n",
       "    </tr>\n",
       "    <tr>\n",
       "      <th>2</th>\n",
       "      <td>282.083252</td>\n",
       "      <td>1024.0</td>\n",
       "      <td>80.0</td>\n",
       "      <td>4.0</td>\n",
       "      <td>0.0</td>\n",
       "      <td>Domingo</td>\n",
       "      <td>2012-10-01 14:00:00</td>\n",
       "    </tr>\n",
       "    <tr>\n",
       "      <th>3</th>\n",
       "      <td>282.091866</td>\n",
       "      <td>1024.0</td>\n",
       "      <td>80.0</td>\n",
       "      <td>18.0</td>\n",
       "      <td>0.0</td>\n",
       "      <td>Domingo</td>\n",
       "      <td>2012-10-01 15:00:00</td>\n",
       "    </tr>\n",
       "    <tr>\n",
       "      <th>4</th>\n",
       "      <td>282.100481</td>\n",
       "      <td>1024.0</td>\n",
       "      <td>80.0</td>\n",
       "      <td>31.0</td>\n",
       "      <td>0.0</td>\n",
       "      <td>Domingo</td>\n",
       "      <td>2012-10-01 16:00:00</td>\n",
       "    </tr>\n",
       "  </tbody>\n",
       "</table>\n",
       "</div>"
      ],
      "text/plain": [
       "   temperatura  pressão  humidade  direção do vento  velocidade do vento  \\\n",
       "0   282.080000   1024.0      81.0               0.0                  0.0   \n",
       "1   282.080000   1024.0      81.0               0.0                  0.0   \n",
       "2   282.083252   1024.0      80.0               4.0                  0.0   \n",
       "3   282.091866   1024.0      80.0              18.0                  0.0   \n",
       "4   282.100481   1024.0      80.0              31.0                  0.0   \n",
       "\n",
       "  dia_da_semana                 data  \n",
       "0       Domingo  2012-10-01 12:00:00  \n",
       "1       Domingo  2012-10-01 13:00:00  \n",
       "2       Domingo  2012-10-01 14:00:00  \n",
       "3       Domingo  2012-10-01 15:00:00  \n",
       "4       Domingo  2012-10-01 16:00:00  "
      ]
     },
     "execution_count": 3,
     "metadata": {},
     "output_type": "execute_result"
    }
   ],
   "source": [
    "df.head() #exibe as 4 primeiras linhas do dataframe"
   ]
  }
 ],
 "metadata": {
  "kernelspec": {
   "display_name": "Python 3",
   "language": "python",
   "name": "python3"
  },
  "language_info": {
   "codemirror_mode": {
    "name": "ipython",
    "version": 3
   },
   "file_extension": ".py",
   "mimetype": "text/x-python",
   "name": "python",
   "nbconvert_exporter": "python",
   "pygments_lexer": "ipython3",
   "version": "3.11.4"
  },
  "orig_nbformat": 4
 },
 "nbformat": 4,
 "nbformat_minor": 2
}
