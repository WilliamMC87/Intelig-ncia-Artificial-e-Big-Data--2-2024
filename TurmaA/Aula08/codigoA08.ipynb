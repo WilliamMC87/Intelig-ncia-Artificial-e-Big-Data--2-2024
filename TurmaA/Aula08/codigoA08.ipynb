{
 "cells": [
  {
   "cell_type": "markdown",
   "metadata": {},
   "source": [
    "Exemplo 1 - Classificar se uma pessoa compra ou não um produto\n",
    "com base na idade , renda e sexo"
   ]
  },
  {
   "cell_type": "markdown",
   "metadata": {},
   "source": [
    "Importação das bibliotecas "
   ]
  },
  {
   "cell_type": "code",
   "execution_count": 412,
   "metadata": {},
   "outputs": [],
   "source": [
    "import pandas as pd # importa a biblioteca pandas"
   ]
  },
  {
   "cell_type": "code",
   "execution_count": 413,
   "metadata": {},
   "outputs": [],
   "source": [
    "df = pd.read_csv('Social_Network_Ads.csv',sep=',') #faz a\n",
    "# importação da base de dados Social Network csv"
   ]
  },
  {
   "cell_type": "code",
   "execution_count": 414,
   "metadata": {},
   "outputs": [
    {
     "data": {
      "text/html": [
       "<div>\n",
       "<style scoped>\n",
       "    .dataframe tbody tr th:only-of-type {\n",
       "        vertical-align: middle;\n",
       "    }\n",
       "\n",
       "    .dataframe tbody tr th {\n",
       "        vertical-align: top;\n",
       "    }\n",
       "\n",
       "    .dataframe thead th {\n",
       "        text-align: right;\n",
       "    }\n",
       "</style>\n",
       "<table border=\"1\" class=\"dataframe\">\n",
       "  <thead>\n",
       "    <tr style=\"text-align: right;\">\n",
       "      <th></th>\n",
       "      <th>User ID</th>\n",
       "      <th>Gender</th>\n",
       "      <th>Age</th>\n",
       "      <th>EstimatedSalary</th>\n",
       "      <th>Purchased</th>\n",
       "    </tr>\n",
       "  </thead>\n",
       "  <tbody>\n",
       "    <tr>\n",
       "      <th>0</th>\n",
       "      <td>15624510</td>\n",
       "      <td>Male</td>\n",
       "      <td>19</td>\n",
       "      <td>19000</td>\n",
       "      <td>0</td>\n",
       "    </tr>\n",
       "    <tr>\n",
       "      <th>1</th>\n",
       "      <td>15810944</td>\n",
       "      <td>Male</td>\n",
       "      <td>35</td>\n",
       "      <td>20000</td>\n",
       "      <td>0</td>\n",
       "    </tr>\n",
       "    <tr>\n",
       "      <th>2</th>\n",
       "      <td>15668575</td>\n",
       "      <td>Female</td>\n",
       "      <td>26</td>\n",
       "      <td>43000</td>\n",
       "      <td>0</td>\n",
       "    </tr>\n",
       "    <tr>\n",
       "      <th>3</th>\n",
       "      <td>15603246</td>\n",
       "      <td>Female</td>\n",
       "      <td>27</td>\n",
       "      <td>57000</td>\n",
       "      <td>0</td>\n",
       "    </tr>\n",
       "    <tr>\n",
       "      <th>4</th>\n",
       "      <td>15804002</td>\n",
       "      <td>Male</td>\n",
       "      <td>19</td>\n",
       "      <td>76000</td>\n",
       "      <td>0</td>\n",
       "    </tr>\n",
       "  </tbody>\n",
       "</table>\n",
       "</div>"
      ],
      "text/plain": [
       "    User ID  Gender  Age  EstimatedSalary  Purchased\n",
       "0  15624510    Male   19            19000          0\n",
       "1  15810944    Male   35            20000          0\n",
       "2  15668575  Female   26            43000          0\n",
       "3  15603246  Female   27            57000          0\n",
       "4  15804002    Male   19            76000          0"
      ]
     },
     "execution_count": 414,
     "metadata": {},
     "output_type": "execute_result"
    }
   ],
   "source": [
    "df.head() # exibe as primeiras linhas do dataframe"
   ]
  },
  {
   "cell_type": "code",
   "execution_count": 415,
   "metadata": {},
   "outputs": [],
   "source": [
    "# Criando um dicionário para substituir o nome de cada coluna\n",
    "dicionario = {\n",
    "    'User ID':'Usuario', 'Gender':'Genero',\n",
    "    'Age':'Idade',\n",
    "    'EstimatedSalary':'Salario Estimado',\n",
    "    'Purchased':'Comprou'\n",
    "    }"
   ]
  },
  {
   "cell_type": "code",
   "execution_count": 416,
   "metadata": {},
   "outputs": [],
   "source": [
    "df.rename(columns=dicionario,inplace=True) #renomeia as colunas do dataframe"
   ]
  },
  {
   "cell_type": "code",
   "execution_count": 417,
   "metadata": {},
   "outputs": [
    {
     "data": {
      "text/html": [
       "<div>\n",
       "<style scoped>\n",
       "    .dataframe tbody tr th:only-of-type {\n",
       "        vertical-align: middle;\n",
       "    }\n",
       "\n",
       "    .dataframe tbody tr th {\n",
       "        vertical-align: top;\n",
       "    }\n",
       "\n",
       "    .dataframe thead th {\n",
       "        text-align: right;\n",
       "    }\n",
       "</style>\n",
       "<table border=\"1\" class=\"dataframe\">\n",
       "  <thead>\n",
       "    <tr style=\"text-align: right;\">\n",
       "      <th></th>\n",
       "      <th>Usuario</th>\n",
       "      <th>Genero</th>\n",
       "      <th>Idade</th>\n",
       "      <th>Salario Estimado</th>\n",
       "      <th>Comprou</th>\n",
       "    </tr>\n",
       "  </thead>\n",
       "  <tbody>\n",
       "    <tr>\n",
       "      <th>0</th>\n",
       "      <td>15624510</td>\n",
       "      <td>Male</td>\n",
       "      <td>19</td>\n",
       "      <td>19000</td>\n",
       "      <td>0</td>\n",
       "    </tr>\n",
       "    <tr>\n",
       "      <th>1</th>\n",
       "      <td>15810944</td>\n",
       "      <td>Male</td>\n",
       "      <td>35</td>\n",
       "      <td>20000</td>\n",
       "      <td>0</td>\n",
       "    </tr>\n",
       "    <tr>\n",
       "      <th>2</th>\n",
       "      <td>15668575</td>\n",
       "      <td>Female</td>\n",
       "      <td>26</td>\n",
       "      <td>43000</td>\n",
       "      <td>0</td>\n",
       "    </tr>\n",
       "    <tr>\n",
       "      <th>3</th>\n",
       "      <td>15603246</td>\n",
       "      <td>Female</td>\n",
       "      <td>27</td>\n",
       "      <td>57000</td>\n",
       "      <td>0</td>\n",
       "    </tr>\n",
       "    <tr>\n",
       "      <th>4</th>\n",
       "      <td>15804002</td>\n",
       "      <td>Male</td>\n",
       "      <td>19</td>\n",
       "      <td>76000</td>\n",
       "      <td>0</td>\n",
       "    </tr>\n",
       "  </tbody>\n",
       "</table>\n",
       "</div>"
      ],
      "text/plain": [
       "    Usuario  Genero  Idade  Salario Estimado  Comprou\n",
       "0  15624510    Male     19             19000        0\n",
       "1  15810944    Male     35             20000        0\n",
       "2  15668575  Female     26             43000        0\n",
       "3  15603246  Female     27             57000        0\n",
       "4  15804002    Male     19             76000        0"
      ]
     },
     "execution_count": 417,
     "metadata": {},
     "output_type": "execute_result"
    }
   ],
   "source": [
    "df.head()"
   ]
  },
  {
   "cell_type": "markdown",
   "metadata": {},
   "source": [
    "Importa as bibliotecas necessárias para a análise dos dados"
   ]
  },
  {
   "cell_type": "code",
   "execution_count": 418,
   "metadata": {},
   "outputs": [],
   "source": [
    "import numpy as np # importa a biblioteca numpy\n",
    "import matplotlib.pyplot as plt # importa a biblioteca matplotlib\n",
    "from sklearn.svm import SVC # importa a biblioteca Sklearn e o modelo SVC\n",
    "from sklearn.preprocessing import StandardScaler # da biblioteca\n",
    "#sklearn preprocessing importa o Standard Scaler\n",
    "from sklearn.metrics import confusion_matrix, accuracy_score,precision_score,recall_score,f1_score\n",
    "from matplotlib.colors import ListedColormap # importa da biblioteca matplotlib\n",
    "# o ListedColormap"
   ]
  },
  {
   "cell_type": "code",
   "execution_count": 419,
   "metadata": {},
   "outputs": [],
   "source": [
    "# Selecionando as colunas do dataframe\n",
    "X= df.iloc[:,[2,3]].values # pega os valores da primeira coluna ate a coluna 3\n",
    "y = df.iloc[:,-1].values # pega a saida do dataframe"
   ]
  },
  {
   "cell_type": "code",
   "execution_count": 420,
   "metadata": {},
   "outputs": [],
   "source": [
    "#x\n",
    "#y"
   ]
  },
  {
   "cell_type": "code",
   "execution_count": 421,
   "metadata": {},
   "outputs": [],
   "source": [
    "# dividindo os dados em treino e teste\n",
    "from sklearn.model_selection import train_test_split # importa o metodo train teste split\n"
   ]
  },
  {
   "cell_type": "code",
   "execution_count": 422,
   "metadata": {},
   "outputs": [],
   "source": [
    "# divide os dados em treino e teste\n",
    "X_treino,X_teste,y_treino,y_teste=train_test_split(X,y,test_size=0.3,\n",
    "                                                   random_state=3)"
   ]
  },
  {
   "cell_type": "code",
   "execution_count": 423,
   "metadata": {},
   "outputs": [],
   "source": [
    "# Normalizando os dados com Stand Scaler\n",
    "sc =StandardScaler() # armazena o Standard Scaler na variavel sc"
   ]
  },
  {
   "cell_type": "code",
   "execution_count": 424,
   "metadata": {},
   "outputs": [],
   "source": [
    "# Normalizando os dados do X_treino e X_teste\n",
    "X_treino = sc.fit_transform(X_treino)\n",
    "X_teste = sc.fit_transform(X_teste)"
   ]
  },
  {
   "cell_type": "code",
   "execution_count": 425,
   "metadata": {},
   "outputs": [],
   "source": [
    "# Criando o algoritmo de ML - Machine Learning SVM\n",
    "algoritmo =SVC(kernel='linear',random_state=3)\n"
   ]
  },
  {
   "cell_type": "code",
   "execution_count": 426,
   "metadata": {},
   "outputs": [
    {
     "data": {
      "text/html": [
       "<style>#sk-container-id-16 {color: black;}#sk-container-id-16 pre{padding: 0;}#sk-container-id-16 div.sk-toggleable {background-color: white;}#sk-container-id-16 label.sk-toggleable__label {cursor: pointer;display: block;width: 100%;margin-bottom: 0;padding: 0.3em;box-sizing: border-box;text-align: center;}#sk-container-id-16 label.sk-toggleable__label-arrow:before {content: \"▸\";float: left;margin-right: 0.25em;color: #696969;}#sk-container-id-16 label.sk-toggleable__label-arrow:hover:before {color: black;}#sk-container-id-16 div.sk-estimator:hover label.sk-toggleable__label-arrow:before {color: black;}#sk-container-id-16 div.sk-toggleable__content {max-height: 0;max-width: 0;overflow: hidden;text-align: left;background-color: #f0f8ff;}#sk-container-id-16 div.sk-toggleable__content pre {margin: 0.2em;color: black;border-radius: 0.25em;background-color: #f0f8ff;}#sk-container-id-16 input.sk-toggleable__control:checked~div.sk-toggleable__content {max-height: 200px;max-width: 100%;overflow: auto;}#sk-container-id-16 input.sk-toggleable__control:checked~label.sk-toggleable__label-arrow:before {content: \"▾\";}#sk-container-id-16 div.sk-estimator input.sk-toggleable__control:checked~label.sk-toggleable__label {background-color: #d4ebff;}#sk-container-id-16 div.sk-label input.sk-toggleable__control:checked~label.sk-toggleable__label {background-color: #d4ebff;}#sk-container-id-16 input.sk-hidden--visually {border: 0;clip: rect(1px 1px 1px 1px);clip: rect(1px, 1px, 1px, 1px);height: 1px;margin: -1px;overflow: hidden;padding: 0;position: absolute;width: 1px;}#sk-container-id-16 div.sk-estimator {font-family: monospace;background-color: #f0f8ff;border: 1px dotted black;border-radius: 0.25em;box-sizing: border-box;margin-bottom: 0.5em;}#sk-container-id-16 div.sk-estimator:hover {background-color: #d4ebff;}#sk-container-id-16 div.sk-parallel-item::after {content: \"\";width: 100%;border-bottom: 1px solid gray;flex-grow: 1;}#sk-container-id-16 div.sk-label:hover label.sk-toggleable__label {background-color: #d4ebff;}#sk-container-id-16 div.sk-serial::before {content: \"\";position: absolute;border-left: 1px solid gray;box-sizing: border-box;top: 0;bottom: 0;left: 50%;z-index: 0;}#sk-container-id-16 div.sk-serial {display: flex;flex-direction: column;align-items: center;background-color: white;padding-right: 0.2em;padding-left: 0.2em;position: relative;}#sk-container-id-16 div.sk-item {position: relative;z-index: 1;}#sk-container-id-16 div.sk-parallel {display: flex;align-items: stretch;justify-content: center;background-color: white;position: relative;}#sk-container-id-16 div.sk-item::before, #sk-container-id-16 div.sk-parallel-item::before {content: \"\";position: absolute;border-left: 1px solid gray;box-sizing: border-box;top: 0;bottom: 0;left: 50%;z-index: -1;}#sk-container-id-16 div.sk-parallel-item {display: flex;flex-direction: column;z-index: 1;position: relative;background-color: white;}#sk-container-id-16 div.sk-parallel-item:first-child::after {align-self: flex-end;width: 50%;}#sk-container-id-16 div.sk-parallel-item:last-child::after {align-self: flex-start;width: 50%;}#sk-container-id-16 div.sk-parallel-item:only-child::after {width: 0;}#sk-container-id-16 div.sk-dashed-wrapped {border: 1px dashed gray;margin: 0 0.4em 0.5em 0.4em;box-sizing: border-box;padding-bottom: 0.4em;background-color: white;}#sk-container-id-16 div.sk-label label {font-family: monospace;font-weight: bold;display: inline-block;line-height: 1.2em;}#sk-container-id-16 div.sk-label-container {text-align: center;}#sk-container-id-16 div.sk-container {/* jupyter's `normalize.less` sets `[hidden] { display: none; }` but bootstrap.min.css set `[hidden] { display: none !important; }` so we also need the `!important` here to be able to override the default hidden behavior on the sphinx rendered scikit-learn.org. See: https://github.com/scikit-learn/scikit-learn/issues/21755 */display: inline-block !important;position: relative;}#sk-container-id-16 div.sk-text-repr-fallback {display: none;}</style><div id=\"sk-container-id-16\" class=\"sk-top-container\"><div class=\"sk-text-repr-fallback\"><pre>SVC(kernel=&#x27;linear&#x27;, random_state=3)</pre><b>In a Jupyter environment, please rerun this cell to show the HTML representation or trust the notebook. <br />On GitHub, the HTML representation is unable to render, please try loading this page with nbviewer.org.</b></div><div class=\"sk-container\" hidden><div class=\"sk-item\"><div class=\"sk-estimator sk-toggleable\"><input class=\"sk-toggleable__control sk-hidden--visually\" id=\"sk-estimator-id-16\" type=\"checkbox\" checked><label for=\"sk-estimator-id-16\" class=\"sk-toggleable__label sk-toggleable__label-arrow\">SVC</label><div class=\"sk-toggleable__content\"><pre>SVC(kernel=&#x27;linear&#x27;, random_state=3)</pre></div></div></div></div></div>"
      ],
      "text/plain": [
       "SVC(kernel='linear', random_state=3)"
      ]
     },
     "execution_count": 426,
     "metadata": {},
     "output_type": "execute_result"
    }
   ],
   "source": [
    "#treinando o algoritmo de Machine Learning SVM\n",
    "algoritmo.fit(X_treino,y_treino)"
   ]
  },
  {
   "cell_type": "code",
   "execution_count": 427,
   "metadata": {},
   "outputs": [],
   "source": [
    "# Realizando as predições\n",
    "y_prev = algoritmo.predict(X_teste)\n"
   ]
  },
  {
   "cell_type": "code",
   "execution_count": 428,
   "metadata": {},
   "outputs": [
    {
     "data": {
      "text/plain": [
       "array([[ 0.88051148,  0.12484894],\n",
       "       [ 0.98171969, -1.25765908],\n",
       "       [ 2.19621829, -1.14480128],\n",
       "       [-1.75090214, -0.58051229],\n",
       "       [-1.04244462,  0.54806568],\n",
       "       [ 0.27326218,  0.23770674],\n",
       "       [ 1.38655256, -1.31408798],\n",
       "       [-1.44727749, -0.60872674],\n",
       "       [ 0.67809505, -0.86265679],\n",
       "       [-1.04244462, -1.48337467],\n",
       "       [ 0.3744704 , -0.27015335],\n",
       "       [ 0.17205397, -0.77801344],\n",
       "       [ 0.88051148,  0.51985123],\n",
       "       [-0.2327789 , -0.4676545 ],\n",
       "       [-1.14365284, -1.06015793],\n",
       "       [-1.34606927, -1.42694577],\n",
       "       [-0.73881998, -0.58051229],\n",
       "       [-1.34606927,  0.40699343],\n",
       "       [-0.03036246,  1.90235924],\n",
       "       [ 0.27326218, -0.27015335],\n",
       "       [-0.53640354,  0.46342233],\n",
       "       [-0.33398711, -1.25765908],\n",
       "       [-0.84002819,  0.29413563],\n",
       "       [ 0.47567862, -0.12908111],\n",
       "       [-0.43519533,  1.22521246],\n",
       "       [-0.63761176, -0.32658225],\n",
       "       [ 0.47567862, -0.43944005],\n",
       "       [ 1.48776077,  2.26914708],\n",
       "       [ 0.3744704 ,  0.26592118],\n",
       "       [ 0.88051148, -1.31408798],\n",
       "       [ 0.67809505,  1.95878814],\n",
       "       [-0.94123641, -1.06015793],\n",
       "       [ 0.47567862,  0.97128242],\n",
       "       [ 0.88051148,  0.74556682],\n",
       "       [-0.2327789 ,  0.51985123],\n",
       "       [ 0.3744704 , -0.49586895],\n",
       "       [-0.73881998,  1.05592576],\n",
       "       [ 0.07084575, -0.2419389 ],\n",
       "       [-0.2327789 ,  0.60449458],\n",
       "       [-1.75090214,  0.35056453],\n",
       "       [ 1.18413613,  2.01521704],\n",
       "       [-1.04244462,  1.90235924],\n",
       "       [-0.2327789 ,  2.18450374],\n",
       "       [ 0.17205397, -0.77801344],\n",
       "       [ 1.18413613, -1.17301573],\n",
       "       [ 0.47567862,  0.01199114],\n",
       "       [-1.85211035, -1.22944463],\n",
       "       [ 0.77930326,  1.73307255],\n",
       "       [-0.2327789 ,  0.15306339],\n",
       "       [-1.24486106,  0.49163678],\n",
       "       [-0.94123641, -0.4112256 ],\n",
       "       [-0.84002819,  0.15306339],\n",
       "       [-0.13157068, -0.27015335],\n",
       "       [-1.04244462,  0.74556682],\n",
       "       [ 0.98171969, -1.11658683],\n",
       "       [ 0.3744704 ,  0.49163678],\n",
       "       [-1.34606927, -0.4112256 ],\n",
       "       [ 0.98171969,  0.99949687],\n",
       "       [-0.63761176, -1.53980357],\n",
       "       [ 0.27326218, -0.12908111],\n",
       "       [-0.73881998, -1.48337467],\n",
       "       [ 1.48776077, -0.89087124],\n",
       "       [ 1.08292791,  2.01521704],\n",
       "       [-0.2327789 ,  0.09663449],\n",
       "       [-0.2327789 , -0.2983678 ],\n",
       "       [-0.03036246,  0.26592118],\n",
       "       [ 0.98171969, -0.74979899],\n",
       "       [ 2.2974265 , -0.77801344],\n",
       "       [-0.63761176, -0.10086666],\n",
       "       [ 1.79138542,  1.56378585],\n",
       "       [-1.64969392,  0.06842004],\n",
       "       [ 1.58896899, -1.00372903],\n",
       "       [-0.73881998, -0.21372445],\n",
       "       [-0.2327789 , -1.31408798],\n",
       "       [ 0.17205397,  0.20949229],\n",
       "       [-0.2327789 , -0.55229784],\n",
       "       [-1.14365284,  0.29413563],\n",
       "       [ 0.27326218, -0.3547967 ],\n",
       "       [-0.53640354, -1.45516022],\n",
       "       [-0.94123641,  0.54806568],\n",
       "       [ 1.58896899,  2.07164594],\n",
       "       [-0.2327789 ,  0.06842004],\n",
       "       [ 0.47567862,  2.24093263],\n",
       "       [ 0.77930326, -1.34230242],\n",
       "       [ 0.98171969, -0.5240834 ],\n",
       "       [ 0.47567862,  0.29413563],\n",
       "       [ 0.17205397,  1.02771132],\n",
       "       [ 0.07084575, -0.2983678 ],\n",
       "       [ 0.3744704 , -0.18551   ],\n",
       "       [-0.13157068, -0.55229784],\n",
       "       [-0.53640354,  1.33807026],\n",
       "       [-1.34606927, -1.06015793],\n",
       "       [-1.14365284,  0.06842004],\n",
       "       [ 0.98171969,  2.09986039],\n",
       "       [ 1.08292791, -1.03194348],\n",
       "       [ 1.08292791,  1.73307255],\n",
       "       [-0.73881998,  0.29413563],\n",
       "       [ 2.19621829,  0.18127784],\n",
       "       [ 0.88051148, -0.80622789],\n",
       "       [-1.04244462, -0.32658225],\n",
       "       [-0.33398711,  1.19699801],\n",
       "       [-1.95331857,  0.35056453],\n",
       "       [-1.04244462, -0.43944005],\n",
       "       [-1.24486106,  0.26592118],\n",
       "       [ 2.09501007, -1.31408798],\n",
       "       [-0.53640354,  1.84593034],\n",
       "       [-1.14365284, -1.48337467],\n",
       "       [ 0.47567862,  1.08414021],\n",
       "       [-0.63761176,  0.12484894],\n",
       "       [ 0.88051148, -1.34230242],\n",
       "       [ 0.27326218, -0.63694119],\n",
       "       [ 2.2974265 ,  0.37877898],\n",
       "       [-0.94123641, -0.2983678 ],\n",
       "       [-1.75090214, -0.94730013],\n",
       "       [-0.33398711, -0.74979899],\n",
       "       [ 0.98171969, -1.39873132],\n",
       "       [ 0.3744704 ,  0.29413563],\n",
       "       [-1.44727749,  0.35056453],\n",
       "       [ 0.47567862,  0.29413563],\n",
       "       [ 0.88051148,  0.35056453]])"
      ]
     },
     "execution_count": 428,
     "metadata": {},
     "output_type": "execute_result"
    }
   ],
   "source": [
    "# exibindo o x_teste\n",
    "X_teste"
   ]
  },
  {
   "cell_type": "code",
   "execution_count": 429,
   "metadata": {},
   "outputs": [],
   "source": [
    "# Aplicando a transformada inversa nos dados\n",
    "x_teste_padrao = sc.inverse_transform(X_teste)"
   ]
  },
  {
   "cell_type": "code",
   "execution_count": 430,
   "metadata": {},
   "outputs": [
    {
     "data": {
      "text/plain": [
       "array([[4.60e+01, 7.40e+04],\n",
       "       [4.70e+01, 2.50e+04],\n",
       "       [5.90e+01, 2.90e+04],\n",
       "       [2.00e+01, 4.90e+04],\n",
       "       [2.70e+01, 8.90e+04],\n",
       "       [4.00e+01, 7.80e+04],\n",
       "       [5.10e+01, 2.30e+04],\n",
       "       [2.30e+01, 4.80e+04],\n",
       "       [4.40e+01, 3.90e+04],\n",
       "       [2.70e+01, 1.70e+04],\n",
       "       [4.10e+01, 6.00e+04],\n",
       "       [3.90e+01, 4.20e+04],\n",
       "       [4.60e+01, 8.80e+04],\n",
       "       [3.50e+01, 5.30e+04],\n",
       "       [2.60e+01, 3.20e+04],\n",
       "       [2.40e+01, 1.90e+04],\n",
       "       [3.00e+01, 4.90e+04],\n",
       "       [2.40e+01, 8.40e+04],\n",
       "       [3.70e+01, 1.37e+05],\n",
       "       [4.00e+01, 6.00e+04],\n",
       "       [3.20e+01, 8.60e+04],\n",
       "       [3.40e+01, 2.50e+04],\n",
       "       [2.90e+01, 8.00e+04],\n",
       "       [4.20e+01, 6.50e+04],\n",
       "       [3.30e+01, 1.13e+05],\n",
       "       [3.10e+01, 5.80e+04],\n",
       "       [4.20e+01, 5.40e+04],\n",
       "       [5.20e+01, 1.50e+05],\n",
       "       [4.10e+01, 7.90e+04],\n",
       "       [4.60e+01, 2.30e+04],\n",
       "       [4.40e+01, 1.39e+05],\n",
       "       [2.80e+01, 3.20e+04],\n",
       "       [4.20e+01, 1.04e+05],\n",
       "       [4.60e+01, 9.60e+04],\n",
       "       [3.50e+01, 8.80e+04],\n",
       "       [4.10e+01, 5.20e+04],\n",
       "       [3.00e+01, 1.07e+05],\n",
       "       [3.80e+01, 6.10e+04],\n",
       "       [3.50e+01, 9.10e+04],\n",
       "       [2.00e+01, 8.20e+04],\n",
       "       [4.90e+01, 1.41e+05],\n",
       "       [2.70e+01, 1.37e+05],\n",
       "       [3.50e+01, 1.47e+05],\n",
       "       [3.90e+01, 4.20e+04],\n",
       "       [4.90e+01, 2.80e+04],\n",
       "       [4.20e+01, 7.00e+04],\n",
       "       [1.90e+01, 2.60e+04],\n",
       "       [4.50e+01, 1.31e+05],\n",
       "       [3.50e+01, 7.50e+04],\n",
       "       [2.50e+01, 8.70e+04],\n",
       "       [2.80e+01, 5.50e+04],\n",
       "       [2.90e+01, 7.50e+04],\n",
       "       [3.60e+01, 6.00e+04],\n",
       "       [2.70e+01, 9.60e+04],\n",
       "       [4.70e+01, 3.00e+04],\n",
       "       [4.10e+01, 8.70e+04],\n",
       "       [2.40e+01, 5.50e+04],\n",
       "       [4.70e+01, 1.05e+05],\n",
       "       [3.10e+01, 1.50e+04],\n",
       "       [4.00e+01, 6.50e+04],\n",
       "       [3.00e+01, 1.70e+04],\n",
       "       [5.20e+01, 3.80e+04],\n",
       "       [4.80e+01, 1.41e+05],\n",
       "       [3.50e+01, 7.30e+04],\n",
       "       [3.50e+01, 5.90e+04],\n",
       "       [3.70e+01, 7.90e+04],\n",
       "       [4.70e+01, 4.30e+04],\n",
       "       [6.00e+01, 4.20e+04],\n",
       "       [3.10e+01, 6.60e+04],\n",
       "       [5.50e+01, 1.25e+05],\n",
       "       [2.10e+01, 7.20e+04],\n",
       "       [5.30e+01, 3.40e+04],\n",
       "       [3.00e+01, 6.20e+04],\n",
       "       [3.50e+01, 2.30e+04],\n",
       "       [3.90e+01, 7.70e+04],\n",
       "       [3.50e+01, 5.00e+04],\n",
       "       [2.60e+01, 8.00e+04],\n",
       "       [4.00e+01, 5.70e+04],\n",
       "       [3.20e+01, 1.80e+04],\n",
       "       [2.80e+01, 8.90e+04],\n",
       "       [5.30e+01, 1.43e+05],\n",
       "       [3.50e+01, 7.20e+04],\n",
       "       [4.20e+01, 1.49e+05],\n",
       "       [4.50e+01, 2.20e+04],\n",
       "       [4.70e+01, 5.10e+04],\n",
       "       [4.20e+01, 8.00e+04],\n",
       "       [3.90e+01, 1.06e+05],\n",
       "       [3.80e+01, 5.90e+04],\n",
       "       [4.10e+01, 6.30e+04],\n",
       "       [3.60e+01, 5.00e+04],\n",
       "       [3.20e+01, 1.17e+05],\n",
       "       [2.40e+01, 3.20e+04],\n",
       "       [2.60e+01, 7.20e+04],\n",
       "       [4.70e+01, 1.44e+05],\n",
       "       [4.80e+01, 3.30e+04],\n",
       "       [4.80e+01, 1.31e+05],\n",
       "       [3.00e+01, 8.00e+04],\n",
       "       [5.90e+01, 7.60e+04],\n",
       "       [4.60e+01, 4.10e+04],\n",
       "       [2.70e+01, 5.80e+04],\n",
       "       [3.40e+01, 1.12e+05],\n",
       "       [1.80e+01, 8.20e+04],\n",
       "       [2.70e+01, 5.40e+04],\n",
       "       [2.50e+01, 7.90e+04],\n",
       "       [5.80e+01, 2.30e+04],\n",
       "       [3.20e+01, 1.35e+05],\n",
       "       [2.60e+01, 1.70e+04],\n",
       "       [4.20e+01, 1.08e+05],\n",
       "       [3.10e+01, 7.40e+04],\n",
       "       [4.60e+01, 2.20e+04],\n",
       "       [4.00e+01, 4.70e+04],\n",
       "       [6.00e+01, 8.30e+04],\n",
       "       [2.80e+01, 5.90e+04],\n",
       "       [2.00e+01, 3.60e+04],\n",
       "       [3.40e+01, 4.30e+04],\n",
       "       [4.70e+01, 2.00e+04],\n",
       "       [4.10e+01, 8.00e+04],\n",
       "       [2.30e+01, 8.20e+04],\n",
       "       [4.20e+01, 8.00e+04],\n",
       "       [4.60e+01, 8.20e+04]])"
      ]
     },
     "execution_count": 430,
     "metadata": {},
     "output_type": "execute_result"
    }
   ],
   "source": [
    "x_teste_padrao"
   ]
  },
  {
   "cell_type": "code",
   "execution_count": 431,
   "metadata": {},
   "outputs": [
    {
     "data": {
      "text/plain": [
       "array([[72,  6],\n",
       "       [13, 29]], dtype=int64)"
      ]
     },
     "execution_count": 431,
     "metadata": {},
     "output_type": "execute_result"
    }
   ],
   "source": [
    "# Gerando a matriz de confusão\n",
    "cm = confusion_matrix(y_teste,y_prev,)\n",
    "cm"
   ]
  },
  {
   "cell_type": "markdown",
   "metadata": {},
   "source": [
    "Importa a biblioteca seaborn"
   ]
  },
  {
   "cell_type": "code",
   "execution_count": 432,
   "metadata": {},
   "outputs": [],
   "source": [
    "import seaborn as sns"
   ]
  },
  {
   "cell_type": "code",
   "execution_count": 433,
   "metadata": {},
   "outputs": [
    {
     "data": {
      "text/plain": [
       "Text(70.72222222222221, 0.5, 'Real')"
      ]
     },
     "execution_count": 433,
     "metadata": {},
     "output_type": "execute_result"
    },
    {
     "data": {
      "image/png": "[encoded data removed]",
      "text/plain": [
       "<Figure size 800x600 with 1 Axes>"
      ]
     },
     "metadata": {},
     "output_type": "display_data"
    }
   ],
   "source": [
    "plt.figure(figsize=(8,6)) #define o tamanho da figura \n",
    "sns.heatmap(cm,annot= True, fmt='d',cmap='Blues',cbar=False,xticklabels=['Comprou','Não Comprou'],yticklabels=['Comprou','Não Comprou'])\n",
    "plt.title('Matriz de confusão -Classificação de compra ou não dos clientes')\n",
    "plt.xlabel('Previsão')\n",
    "plt.ylabel('Real')"
   ]
  },
  {
   "cell_type": "code",
   "execution_count": 434,
   "metadata": {},
   "outputs": [
    {
     "data": {
      "text/plain": [
       "0.8416666666666667"
      ]
     },
     "execution_count": 434,
     "metadata": {},
     "output_type": "execute_result"
    }
   ],
   "source": [
    "# Calculando as métricas\n",
    "acc = accuracy_score(y_teste,y_prev)\n",
    "acc\n",
    "# acc = VP +VN / (VP+VN+FP+FN)"
   ]
  },
  {
   "cell_type": "code",
   "execution_count": 435,
   "metadata": {},
   "outputs": [
    {
     "data": {
      "text/plain": [
       "0.8285714285714286"
      ]
     },
     "execution_count": 435,
     "metadata": {},
     "output_type": "execute_result"
    }
   ],
   "source": [
    "# Calculando as métricas Precisao\n",
    "prec = precision_score(y_teste,y_prev)\n",
    "prec\n",
    "# prec = VP/ VP +FP"
   ]
  },
  {
   "cell_type": "code",
   "execution_count": 436,
   "metadata": {},
   "outputs": [
    {
     "data": {
      "text/plain": [
       "0.7532467532467533"
      ]
     },
     "execution_count": 436,
     "metadata": {},
     "output_type": "execute_result"
    }
   ],
   "source": [
    "# Calculando as métricas F1_score\n",
    "f1score = f1_score(y_teste,y_prev)\n",
    "f1score\n",
    "# F1_score = 2* precision * recall / precision +recall "
   ]
  },
  {
   "cell_type": "code",
   "execution_count": 437,
   "metadata": {},
   "outputs": [
    {
     "data": {
      "text/plain": [
       "0.6904761904761905"
      ]
     },
     "execution_count": 437,
     "metadata": {},
     "output_type": "execute_result"
    }
   ],
   "source": [
    "# Metrica recall score\n",
    "recall = recall_score(y_teste,y_prev)\n",
    "recall\n",
    "# recal = VP / VP + FN"
   ]
  },
  {
   "cell_type": "code",
   "execution_count": 438,
   "metadata": {},
   "outputs": [
    {
     "name": "stderr",
     "output_type": "stream",
     "text": [
      "C:\\Users\\sn1076220\\AppData\\Local\\Temp\\ipykernel_36372\\2596025790.py:9: UserWarning: *c* argument looks like a single numeric RGB or RGBA sequence, which should be avoided as value-mapping will have precedence in case its length matches with *x* & *y*.  Please use the *color* keyword-argument or provide a 2D array with a single row if you intend to specify the same RGB or RGBA value for all points.\n",
      "  plt.scatter(_X[_y == j, 0], _X[_y == j, 1],\n"
     ]
    },
    {
     "data": {
      "image/png": "[encoded data removed]",
      "text/plain": [
       "<Figure size 640x480 with 1 Axes>"
      ]
     },
     "metadata": {},
     "output_type": "display_data"
    }
   ],
   "source": [
    "_X, _y = X_treino, y_treino\n",
    "X1, X2 = np.meshgrid(np.arange(start = _X[:, 0].min() - 1, stop = _X[:, 0].max() + 1, step = 0.01),\n",
    "                     np.arange(start = _X[:, 1].min() - 1, stop = _X[:, 1].max() + 1, step = 0.01))\n",
    "plt.contourf(X1, X2, algoritmo.predict(np.array([X1.ravel(), X2.ravel()]).T).reshape(X1.shape),\n",
    "             alpha = 0.75, cmap = ListedColormap(('red', 'blue')))\n",
    "plt.xlim(X1.min(), X1.max())\n",
    "plt.ylim(X2.min(), X2.max())\n",
    "for i, j in enumerate(np.unique(_y)):\n",
    "    plt.scatter(_X[_y == j, 0], _X[_y == j, 1],\n",
    "                c = ListedColormap(('gray', 'black'))(i), label = j)\n",
    "plt.title('SVM (Dados de Treinamento)')\n",
    "plt.xlabel('Idade')\n",
    "plt.ylabel('Salário Anual (Estimado)')\n",
    "plt.legend()\n",
    "plt.show()\n"
   ]
  },
  {
   "cell_type": "code",
   "execution_count": 439,
   "metadata": {},
   "outputs": [
    {
     "name": "stderr",
     "output_type": "stream",
     "text": [
      "C:\\Users\\sn1076220\\AppData\\Local\\Temp\\ipykernel_36372\\425008105.py:11: UserWarning: *c* argument looks like a single numeric RGB or RGBA sequence, which should be avoided as value-mapping will have precedence in case its length matches with *x* & *y*.  Please use the *color* keyword-argument or provide a 2D array with a single row if you intend to specify the same RGB or RGBA value for all points.\n",
      "  plt.scatter(_X[_y == j, 0], _X[_y == j, 1],\n"
     ]
    },
    {
     "data": {
      "image/png": "[encoded data removed]",
      "text/plain": [
       "<Figure size 640x480 with 1 Axes>"
      ]
     },
     "metadata": {},
     "output_type": "display_data"
    }
   ],
   "source": [
    "# Visualização dados de teste\n",
    "# Visualizando os resultados dos dados de teste:\n",
    "_X, _y = X_teste,y_teste\n",
    "X1, X2 = np.meshgrid(np.arange(start = _X[:, 0].min() - 1, stop = _X[:, 0].max() + 1, step = 0.01),\n",
    "                     np.arange(start = _X[:, 1].min() - 1, stop = _X[:, 1].max() + 1, step = 0.01))\n",
    "plt.contourf(X1, X2, algoritmo.predict(np.array([X1.ravel(), X2.ravel()]).T).reshape(X1.shape),\n",
    "             alpha = 0.75, cmap = ListedColormap(('red', 'blue')))\n",
    "plt.xlim(X1.min(), X1.max())\n",
    "plt.ylim(X2.min(), X2.max())\n",
    "for i, j in enumerate(np.unique(_y)):\n",
    "    plt.scatter(_X[_y == j, 0], _X[_y == j, 1],\n",
    "                c = ListedColormap(('grey', 'black'))(i), label = j)\n",
    "plt.title('SVM (Dados de Teste)')\n",
    "plt.xlabel('Idade')\n",
    "plt.ylabel('Salário Anual (Estimado)')\n",
    "plt.legend()\n",
    "plt.show()"
   ]
  }
 ],
 "metadata": {
  "kernelspec": {
   "display_name": "Python 3",
   "language": "python",
   "name": "python3"
  },
  "language_info": {
   "codemirror_mode": {
    "name": "ipython",
    "version": 3
   },
   "file_extension": ".py",
   "mimetype": "text/x-python",
   "name": "python",
   "nbconvert_exporter": "python",
   "pygments_lexer": "ipython3",
   "version": "3.11.4"
  }
 },
 "nbformat": 4,
 "nbformat_minor": 2
}
