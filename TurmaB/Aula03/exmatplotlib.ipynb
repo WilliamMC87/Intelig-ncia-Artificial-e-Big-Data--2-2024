{
 "cells": [
  {
   "cell_type": "code",
   "execution_count": 1,
   "metadata": {},
   "outputs": [],
   "source": [
    "import pandas as pd # importa a biblioteca pandas\n",
    "import matplotlib.pyplot as plt # importa a biblioteca matplotlib\n",
    "import numpy as np # importa a biblioteca numpy "
   ]
  },
  {
   "cell_type": "code",
   "execution_count": 2,
   "metadata": {},
   "outputs": [],
   "source": [
    "# Gerando numeros com a numpy\n",
    "dados_x = np.linspace(0,10,10) #gera valores com a biblioteca numpy\n",
    "dados_y = dados_x * dados_x #gera valores multiplicando um dado pelo outro"
   ]
  },
  {
   "cell_type": "code",
   "execution_count": null,
   "metadata": {},
   "outputs": [],
   "source": [
    "plt.figure(figsize=(10,5),facecolor='gray')\n",
    "Ax = plt.axes() # cria os eixos do grafico\n",
    "Ax.set_facecolor('white') # cria o fundo do grafico\n",
    "\n"
   ]
  }
 ],
 "metadata": {
  "kernelspec": {
   "display_name": "Python 3",
   "language": "python",
   "name": "python3"
  },
  "language_info": {
   "codemirror_mode": {
    "name": "ipython",
    "version": 3
   },
   "file_extension": ".py",
   "mimetype": "text/x-python",
   "name": "python",
   "nbconvert_exporter": "python",
   "pygments_lexer": "ipython3",
   "version": "3.11.4"
  },
  "orig_nbformat": 4
 },
 "nbformat": 4,
 "nbformat_minor": 2
}
