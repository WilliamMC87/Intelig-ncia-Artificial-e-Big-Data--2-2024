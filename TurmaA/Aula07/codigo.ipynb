{
 "cells": [
  {
   "cell_type": "markdown",
   "metadata": {},
   "source": [
    "Objetivo do projeto: Classificar se uma máquina precisa ou não de manutenção"
   ]
  },
  {
   "cell_type": "markdown",
   "metadata": {},
   "source": [
    "Importando as bibliotecas\n"
   ]
  },
  {
   "cell_type": "code",
   "execution_count": 1,
   "metadata": {},
   "outputs": [],
   "source": [
    "from sklearn.model_selection import train_test_split # importa a biblioteca\n",
    "# para dividir os dados em treino e teste\n",
    "import numpy as np # biblioteca para trabalhar com arrays\n",
    "from sklearn.tree import DecisionTreeClassifier # importa o modelo \n",
    "#arvore de decisão\n",
    "import pandas as pd\n",
    "from sklearn.metrics import accuracy_score, precision_score,recall_score,f1_score,confusion_matrix\n",
    "import matplotlib.pyplot as plt\n",
    "import seaborn as sns # importa biblioteca seaborn para plotar gráficos"
   ]
  }
 ],
 "metadata": {
  "kernelspec": {
   "display_name": "Python 3",
   "language": "python",
   "name": "python3"
  },
  "language_info": {
   "codemirror_mode": {
    "name": "ipython",
    "version": 3
   },
   "file_extension": ".py",
   "mimetype": "text/x-python",
   "name": "python",
   "nbconvert_exporter": "python",
   "pygments_lexer": "ipython3",
   "version": "3.11.4"
  }
 },
 "nbformat": 4,
 "nbformat_minor": 2
}
