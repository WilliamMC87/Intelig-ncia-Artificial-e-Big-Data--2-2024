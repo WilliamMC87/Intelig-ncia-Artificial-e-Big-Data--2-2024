{
 "cells": [
  {
   "cell_type": "code",
   "execution_count": 1,
   "metadata": {},
   "outputs": [],
   "source": [
    "import numpy as np # biblioteca numpy para\n",
    "# fazer cálculos matemáticos\n",
    "from sklearn.model_selection  import train_test_split # importa da biblioteca\n",
    "#sklearn.model  a biblioteca train test split\n",
    "# essa biblioteca train test split serve para  dividir os dados\n",
    "# teste e treino\n",
    "from sklearn.tree import DecisionTreeClassifier # vai importar o\n",
    "#algoritmo  da arvore de decisão\n",
    "from sklearn import tree # importa a biblioteca para plotar a arvore de decisão\n",
    "import matplotlib.pyplot as plt # importa a biblioteca matplotlib\n",
    "import seaborn as sns # importa a biblioteca seaborn"
   ]
  },
  {
   "cell_type": "code",
   "execution_count": null,
   "metadata": {},
   "outputs": [],
   "source": [
    "#pip install scikit-learn "
   ]
  },
  {
   "cell_type": "code",
   "execution_count": 2,
   "metadata": {},
   "outputs": [],
   "source": [
    "# criando o conjunto de dados\n",
    "notas = np.array([8,6,5,9,4,3,7,2,1,5,6,9,8])\n",
    "classes = np.array(['bom','ruim','ruim','bom','pessimo',\n",
    "                    'pessimo','bom','pessimo',\n",
    "                     'pessimo','ruim','ruim','bom','bom'])"
   ]
  },
  {
   "cell_type": "code",
   "execution_count": 5,
   "metadata": {},
   "outputs": [],
   "source": [
    "#dividir dados em teste e treino\n",
    "notas_treino, notas_teste, classes_treino,classes_teste = train_test_split(notas.reshape(-1,1),\n",
    "                                                                            classes.reshape(-1,1), test_size=0.2, \n",
    "                                                                            random_state=42)\n"
   ]
  },
  {
   "cell_type": "code",
   "execution_count": null,
   "metadata": {},
   "outputs": [],
   "source": [
    "modelo = DecisionTreeClassifier()\n",
    "modelo.fit(notas_treino,classes_treino)"
   ]
  },
  {
   "cell_type": "code",
   "execution_count": null,
   "metadata": {},
   "outputs": [],
   "source": [
    "previsoes = modelo.predict(notas_teste)\n",
    "previsoes"
   ]
  },
  {
   "cell_type": "code",
   "execution_count": null,
   "metadata": {},
   "outputs": [],
   "source": []
  }
 ],
 "metadata": {
  "kernelspec": {
   "display_name": "Python 3",
   "language": "python",
   "name": "python3"
  },
  "language_info": {
   "codemirror_mode": {
    "name": "ipython",
    "version": 3
   },
   "file_extension": ".py",
   "mimetype": "text/x-python",
   "name": "python",
   "nbconvert_exporter": "python",
   "pygments_lexer": "ipython3",
   "version": "3.11.4"
  }
 },
 "nbformat": 4,
 "nbformat_minor": 2
}
